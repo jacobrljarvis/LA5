{
  "nbformat": 4,
  "nbformat_minor": 0,
  "metadata": {
    "colab": {
      "provenance": []
    },
    "kernelspec": {
      "name": "python3",
      "display_name": "Python 3"
    },
    "language_info": {
      "name": "python"
    }
  },
  "cells": [
    {
      "cell_type": "markdown",
      "source": [
        "# LA5 Notebook Lab\n",
        "**Jacob Jarvis**  \n"
      ],
      "metadata": {
        "id": "lBF9c7wT3ruy"
      }
    },
    {
      "cell_type": "markdown",
      "source": [
        "## Task 1: Equations\n",
        "\n",
        "### Description\n",
        "This task involves reproducing the specific mathematical equations from Appendix A of the Bramer textbook using LaTeX notation, as shown in the provided images.\n",
        "\n",
        "### Logarithm Equations\n",
        "\n",
        "\n",
        "$$\\log_2(ab) = \\log_2(a) + \\log_2(b)$$\n",
        "\n",
        "$$\\log_a\\left(\\frac{a}{b}\\right) = \\log_2(a) - \\log_2(b)$$\n",
        "\n",
        "$$\\log_2(a^n) = n \\log_2(a)$$\n",
        "\n",
        "$$\\log_2\\left(\\frac{1}{a}\\right) = -log_2(a)$$\n",
        "\n",
        "### More Logarithm Equations\n",
        "\n",
        "$$\\sum_{i=1}^{i=m} \\sum_{j=1}^{j=n} a_{i,j} =\\sum_{j=1}^{j=n} \\sum_{i=1}^{i=m} a_{i,j}$$\n",
        "\n",
        "\n",
        "### Source Citation\n",
        "\n",
        "[Bramer, M. (2020). *Principles of Data Mining*. Springer.](https://www.amazon.com/Principles-Data-Mining-Undergraduate-Computer/dp/1447173066)"
      ],
      "metadata": {
        "id": "moGP_Slx5JA9"
      }
    },
    {
      "cell_type": "markdown",
      "source": [
        "## Task 2: Mean\n",
        "\n",
        "### Description\n",
        "This task shows the mathematical formula for computing the mean and implements it in Python.\n",
        "\n",
        "### Mathematical Formula for the Mean\n",
        "\n",
        "$$\\bar{a} = \\frac{1}{n} \\sum_{i=1}^{n} a_i = \\frac{a_1 + a_2 + a_3 + \\cdots + a_n}{n}$$\n"
      ],
      "metadata": {
        "id": "CiFPITuT6efB"
      }
    },
    {
      "cell_type": "code",
      "execution_count": 9,
      "metadata": {
        "colab": {
          "base_uri": "https://localhost:8080/"
        },
        "id": "3iiPUvSU29dw",
        "outputId": "1579e1d8-8fab-4f35-8b5d-202f8c9c2c23"
      },
      "outputs": [
        {
          "output_type": "stream",
          "name": "stdout",
          "text": [
            "Test calculation:\n",
            "Data: [1, 2, 3, 4, 5]\n",
            "Mean: 3.0\n",
            "Expected: 3.0\n"
          ]
        }
      ],
      "source": [
        "import random\n",
        "import statistics\n",
        "\n",
        "def calculate_mean(numbers):\n",
        "    \"\"\"\n",
        "    Calculate the arithmetic mean (average) of a list of numbers.\n",
        "\n",
        "    This function implements the mathematical formula:\n",
        "    mean = (1/n) * sum(all elements)\n",
        "\n",
        "    Args:\n",
        "        numbers (list): A list of numeric values\n",
        "\n",
        "    Returns:\n",
        "        float: The arithmetic mean of the input numbers\n",
        "\n",
        "    Raises:\n",
        "        ValueError: If the input list is empty\n",
        "    \"\"\"\n",
        "    if len(numbers) == 0:\n",
        "        raise ValueError(\"Cannot calculate mean of empty list\")\n",
        "\n",
        "    total_sum = sum(numbers)\n",
        "    count = len(numbers)\n",
        "\n",
        "    return total_sum / count\n",
        "\n",
        "# Test the function with a simple example\n",
        "test_data = [1, 2, 3, 4, 5]\n",
        "test_mean = calculate_mean(test_data)\n",
        "print(f\"Test calculation:\")\n",
        "print(f\"Data: {test_data}\")\n",
        "print(f\"Mean: {test_mean}\")\n",
        "print(f\"Expected: {sum(test_data)/len(test_data)}\")"
      ]
    },
    {
      "cell_type": "code",
      "source": [
        "random.seed(14)\n",
        "\n",
        "# List 1: Random numbers between 0 and 100\n",
        "list1 = [random.uniform(0, 100) for _ in range(100)]\n",
        "\n",
        "# List 2: Random numbers between -50 and 50\n",
        "list2 = [random.uniform(-50, 50) for _ in range(100)]\n",
        "\n",
        "print(\"Generated two lists with 100 random numbers each:\")\n",
        "print(\"=\" * 50)\n",
        "print(f\"List 1 range: [0, 100]\")\n",
        "print(f\"List 2 range: [-50, 50]\")\n",
        "print()\n",
        "\n",
        "# Display first 10 elements of each list\n",
        "print(\"First 10 elements of List 1:\")\n",
        "print([round(x, 2) for x in list1[:10]])\n",
        "print()\n",
        "\n",
        "print(\"First 10 elements of List 2:\")\n",
        "print([round(x, 2) for x in list2[:10]])\n",
        "print()\n",
        "\n",
        "# Calculate basic statistics\n",
        "print(f\"List 1 - Min: {min(list1):.2f}, Max: {max(list1):.2f}\")\n",
        "print(f\"List 2 - Min: {min(list2):.2f}, Max: {max(list2):.2f}\")"
      ],
      "metadata": {
        "colab": {
          "base_uri": "https://localhost:8080/"
        },
        "id": "iMAMCBd36j0D",
        "outputId": "18fcd344-9788-4b8c-dd8d-d8dbdd3955f9"
      },
      "execution_count": 12,
      "outputs": [
        {
          "output_type": "stream",
          "name": "stdout",
          "text": [
            "Generated two lists with 100 random numbers each:\n",
            "==================================================\n",
            "List 1 range: [0, 100]\n",
            "List 2 range: [-50, 50]\n",
            "\n",
            "First 10 elements of List 1:\n",
            "[10.68, 70.26, 65.2, 94.04, 27.11, 25.58, 73.41, 65.85, 30.3, 68.42]\n",
            "\n",
            "First 10 elements of List 2:\n",
            "[-25.14, 10.39, 41.71, -20.86, 26.16, -13.13, 6.11, 9.58, 44.23, 25.73]\n",
            "\n",
            "List 1 - Min: 1.91, Max: 99.04\n",
            "List 2 - Min: -49.94, Max: 49.65\n"
          ]
        }
      ]
    },
    {
      "cell_type": "code",
      "source": [
        "# Calculate means using our custom function\n",
        "mean1 = calculate_mean(list1)\n",
        "mean2 = calculate_mean(list2)\n",
        "\n",
        "print(\"Mean Calculations:\")\n",
        "print(\"=\" * 30)\n",
        "print(f\"List 1 mean (our function): {mean1:.6f}\")\n",
        "print(f\"List 2 mean (our function): {mean2:.6f}\")\n",
        "print()\n",
        "\n",
        "# Verify results using Python's built-in statistics module\n",
        "builtin_mean1 = statistics.mean(list1)\n",
        "builtin_mean2 = statistics.mean(list2)\n",
        "\n",
        "print(f\"List 1 mean (built-in):     {builtin_mean1:.6f}\")\n",
        "print(f\"List 2 mean (built-in):     {builtin_mean2:.6f}\")\n",
        "print()\n",
        "\n",
        "# Check if our results match the built-in function\n",
        "tolerance = 1e-10\n",
        "list1_match = abs(mean1 - builtin_mean1) < tolerance\n",
        "list2_match = abs(mean2 - builtin_mean2) < tolerance\n",
        "\n",
        "print(f\"List 1 calculations match: {list1_match}\")\n",
        "print(f\"List 2 calculations match: {list2_match}\")\n",
        "print()"
      ],
      "metadata": {
        "colab": {
          "base_uri": "https://localhost:8080/"
        },
        "id": "5c6QsoSi6lRy",
        "outputId": "82d19ff7-3997-4dfa-deca-fae202f6e3fa"
      },
      "execution_count": 11,
      "outputs": [
        {
          "output_type": "stream",
          "name": "stdout",
          "text": [
            "Mean Calculations:\n",
            "==============================\n",
            "List 1 mean (our function): 45.345013\n",
            "List 2 mean (our function): 3.408184\n",
            "\n",
            "List 1 mean (built-in):     45.345013\n",
            "List 2 mean (built-in):     3.408184\n",
            "\n",
            "List 1 calculations match: True\n",
            "List 2 calculations match: True\n",
            "\n"
          ]
        }
      ]
    },
    {
      "cell_type": "markdown",
      "source": [
        "## Task 3: Meme\n",
        "\n",
        "### Description\n",
        "This task is showing a meme and explaining it\n",
        "\n",
        "### Statistical Meme\n",
        "\n",
        "![Correlation vs Causation](https://imgs.xkcd.com/comics/correlation.png)\n",
        "\n",
        "*Image source: [XKCD #552 - Correlation](https://xkcd.com/552/)*\n",
        "\n",
        "\n",
        "**Why it's funny:**\n",
        "- He talks about causation and correlation and used to think they were related however when the person says that the class seemed to be the causation for him not thinking correlation implied causation he says well maybe. Its actually hilarious\n"
      ],
      "metadata": {
        "id": "mmUOTjuN6oPQ"
      }
    }
  ]
}